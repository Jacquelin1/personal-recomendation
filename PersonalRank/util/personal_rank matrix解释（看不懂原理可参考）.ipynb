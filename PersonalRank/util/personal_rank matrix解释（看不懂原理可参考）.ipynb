{
 "cells": [
  {
   "cell_type": "code",
   "execution_count": 26,
   "metadata": {},
   "outputs": [],
   "source": [
    "import numpy as np\n",
    "from __future__ import division\n",
    "from scipy.sparse import coo_matrix\n",
    "import numpy as np\n",
    "\n",
    "import sys\n",
    "data=[]\n",
    "graph={'A': {'item_a': 1, 'item_b': 1, 'item_d': 1}, 'item_a': {'A': 1, 'B': 1}, 'item_b': {'A': 1, 'C': 1}, 'item_d': {'A': 1, 'D': 1}, 'B': {'item_a': 1, 'item_c': 1}, 'item_c': {'B': 1, 'D': 1}, 'C': {'item_b': 1, 'item_e': 1}, 'item_e': {'C': 1}, 'D': {'item_c': 1, 'item_d': 1}}"
   ]
  },
  {
   "cell_type": "code",
   "execution_count": 28,
   "metadata": {},
   "outputs": [],
   "source": [
    "\n",
    "vertex = list(graph.keys())\n",
    "address_dict = {}\n",
    "total_len = len(vertex)\n",
    "for index in range(len(vertex)):\n",
    "    address_dict[vertex[index]] = index\n",
    "row = []\n",
    "col = []\n",
    "data = []\n",
    "for element_i in graph:\n",
    "    weight = round(1/len(graph[element_i]), 3)\n",
    "    row_index = address_dict[element_i]\n",
    "    for element_j in graph[element_i]:\n",
    "        col_index = address_dict[element_j]\n",
    "        row.append(row_index)\n",
    "        col.append(col_index)\n",
    "        data.append(weight)\n",
    "row = np.array(row)\n",
    "col = np.array(col)\n",
    "data = np.array(data)\n"
   ]
  },
  {
   "cell_type": "code",
   "execution_count": null,
   "metadata": {},
   "outputs": [],
   "source": []
  },
  {
   "cell_type": "code",
   "execution_count": 31,
   "metadata": {},
   "outputs": [
    {
     "data": {
      "text/plain": [
       "matrix([[0.   , 0.333, 0.333, 0.333, 0.   , 0.   , 0.   , 0.   , 0.   ],\n",
       "        [0.5  , 0.   , 0.   , 0.   , 0.5  , 0.   , 0.   , 0.   , 0.   ],\n",
       "        [0.5  , 0.   , 0.   , 0.   , 0.   , 0.   , 0.5  , 0.   , 0.   ],\n",
       "        [0.5  , 0.   , 0.   , 0.   , 0.   , 0.   , 0.   , 0.   , 0.5  ],\n",
       "        [0.   , 0.5  , 0.   , 0.   , 0.   , 0.5  , 0.   , 0.   , 0.   ],\n",
       "        [0.   , 0.   , 0.   , 0.   , 0.5  , 0.   , 0.   , 0.   , 0.5  ],\n",
       "        [0.   , 0.   , 0.5  , 0.   , 0.   , 0.   , 0.   , 0.5  , 0.   ],\n",
       "        [0.   , 0.   , 0.   , 0.   , 0.   , 0.   , 1.   , 0.   , 0.   ],\n",
       "        [0.   , 0.   , 0.   , 0.5  , 0.   , 0.5  , 0.   , 0.   , 0.   ]])"
      ]
     },
     "execution_count": 31,
     "metadata": {},
     "output_type": "execute_result"
    }
   ],
   "source": [
    "m = coo_matrix((data, (row, col)), shape=(total_len, total_len))\n",
    "m.todense()"
   ]
  },
  {
   "cell_type": "code",
   "execution_count": 19,
   "metadata": {},
   "outputs": [
    {
     "name": "stdout",
     "output_type": "stream",
     "text": [
      "A 0.333\n",
      "item_a 0.5\n",
      "item_b 0.5\n",
      "item_d 0.5\n",
      "B 0.5\n",
      "item_c 0.5\n",
      "C 0.5\n",
      "item_e 1.0\n",
      "D 0.5\n"
     ]
    }
   ],
   "source": [
    "for element_i in graph:\n",
    "    weight=round(1/len(graph[element_i]),3)  #出度分之一\n",
    "    print(element_i,weight)\n",
    "    data.append(weight)"
   ]
  },
  {
   "cell_type": "code",
   "execution_count": null,
   "metadata": {},
   "outputs": [],
   "source": []
  }
 ],
 "metadata": {
  "kernelspec": {
   "display_name": "Python 3",
   "language": "python",
   "name": "python3"
  },
  "language_info": {
   "codemirror_mode": {
    "name": "ipython",
    "version": 3
   },
   "file_extension": ".py",
   "mimetype": "text/x-python",
   "name": "python",
   "nbconvert_exporter": "python",
   "pygments_lexer": "ipython3",
   "version": "3.6.5"
  }
 },
 "nbformat": 4,
 "nbformat_minor": 2
}
